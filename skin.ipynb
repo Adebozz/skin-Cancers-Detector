{
 "cells": [
  {
   "cell_type": "code",
   "execution_count": null,
   "metadata": {},
   "outputs": [],
   "source": [
    "# 1. Install Dependencies and Setup\n",
    "%pip install tensorflow tensorflow-gpu opencv-python matplotlib\n",
    "%pip list"
   ]
  },
  {
   "cell_type": "code",
   "execution_count": null,
   "metadata": {},
   "outputs": [],
   "source": [
    "import tensorflow as tf\n",
    "import os"
   ]
  },
  {
   "cell_type": "code",
   "execution_count": null,
   "metadata": {},
   "outputs": [],
   "source": [
    "# Avoid OOM errors by setting GPU Memory Consumption Growth\n",
    "gpus = tf.config.experimental.list_physical_devices('GPU')\n",
    "for gpu in gpus:\n",
    "    tf.config.experimental.set_memory_growth(gpu, True)\n",
    "tf.config.list_physical_devices('GPU')\n"
   ]
  },
  {
   "cell_type": "code",
   "execution_count": null,
   "metadata": {},
   "outputs": [],
   "source": [
    "# 2. Remove dodgy images\n",
    "import cv2\n",
    "import imghdr\n",
    "\n",
    "data_dir = 'ISIC/train'\n",
    "image_exts = ['jpeg', 'jpg', 'bmp', 'png']\n",
    "allowed_classes =['basal cell carcinoma', 'melanoma', 'squamous cell carcinoma']\n",
    "\n",
    "for image_class in os.listdir(data_dir):\n",
    "    if image_class not in allowed_classes:\n",
    "        continue \n",
    "    \n",
    "    for image in os.listdir(os.path.join(data_dir, image_class)):\n",
    "        image_path = os.path.join(data_dir, image_class, image)\n",
    "        try:\n",
    "            img = cv2.imread(image_path)\n",
    "            tip = imghdr.what(image_path)\n",
    "            if tip not in image_exts:\n",
    "                print('Image not in ext list {}'.format(image_path))\n",
    "                os.remove(image_path)\n",
    "        except Exception as e:\n",
    "            print('Issue with image {}'.format(image_path))\n",
    "            os.remove(image_path)"
   ]
  },
  {
   "cell_type": "code",
   "execution_count": null,
   "metadata": {},
   "outputs": [],
   "source": [
    "import numpy as np\n",
    "from matplotlib import pyplot as plt\n",
    "import tensorflow as tf\n",
    "from tensorflow.keras.layers.experimental.preprocessing import RandomFlip, RandomRotation, RandomZoom\n",
    "\n",
    "# Load Data with Data Augmentation\n",
    "data_augmentation = tf.keras.Sequential([\n",
    "    RandomFlip(\"horizontal\"),       # Randomly flip images horizontally\n",
    "    RandomRotation(0.2),            # Randomly rotate images by a maximum of 20%\n",
    "    RandomZoom(0.2)                 # Randomly zoom images by a maximum of 20%\n",
    "])\n",
    "\n",
    "data = tf.keras.utils.image_dataset_from_directory(\n",
    "    'ISIC/train', \n",
    "    labels='inferred', \n",
    "    label_mode='int', \n",
    "    validation_split=0.2,           # Use 20% of the data for validation\n",
    "    subset='training',              # Specify training subset for data augmentation\n",
    "    seed=123,                       # Set a random seed for reproducibility\n",
    "    image_size=(256, 256),          # Set the desired image size for data augmentation\n",
    "    batch_size=32                   # Set the batch size\n",
    ")\n",
    "\n",
    "# Increase dataset size using data augmentation\n",
    "def generator():\n",
    "    for batch in data:\n",
    "        # Convert the original images to float32 before applying data augmentation\n",
    "        original_images = tf.image.convert_image_dtype(batch[0], tf.float32)\n",
    "        for i in range(5):  # Augment each batch 5 times\n",
    "            augmented_images = data_augmentation(original_images, training=True)  # Apply data augmentation\n",
    "            # Keep the original labels for the augmented images\n",
    "            yield augmented_images, batch[1]\n",
    "\n",
    "augmented_data = tf.data.Dataset.from_generator(generator, output_signature=(tf.TensorSpec(shape=(None, 256, 256, 3), dtype=tf.float32), tf.TensorSpec(shape=(None,), dtype=tf.int32)))\n",
    "\n",
    "print(\"New size of the dataset after data augmentation:\", len(list(augmented_data.as_numpy_iterator())))\n",
    "\n",
    "data_iterator = augmented_data.as_numpy_iterator()\n",
    "batch = data_iterator.next()\n",
    "fig, ax = plt.subplots(nrows=5, ncols=4, figsize=(20, 20))\n",
    "for row in range(5):\n",
    "    for col in range(4):\n",
    "        idx = row * 4 + col\n",
    "        img = batch[0][idx]\n",
    "        label = batch[1][idx]\n",
    "        ax[row, col].imshow(img)\n",
    "        ax[row, col].title.set_text(label)\n",
    "plt.show()"
   ]
  },
  {
   "cell_type": "code",
   "execution_count": null,
   "metadata": {},
   "outputs": [],
   "source": [
    "# 4. Scale Data\n",
    "data = data.map(lambda x, y: (x / 255, y))\n",
    "data.as_numpy_iterator().next()\n"
   ]
  },
  {
   "cell_type": "code",
   "execution_count": null,
   "metadata": {},
   "outputs": [],
   "source": [
    "# 5. Split Data\n",
    "train_size = int(len(data) * 0.7)\n",
    "val_size = int(len(data) * 0.2)\n",
    "test_size = int(len(data) * 0.1)\n",
    "train_size, val_size, test_size\n",
    "\n",
    "train = data.take(train_size)\n",
    "val = data.skip(train_size).take(val_size)\n",
    "test = data.skip(train_size + val_size).take(test_size)\n"
   ]
  },
  {
   "cell_type": "code",
   "execution_count": null,
   "metadata": {},
   "outputs": [],
   "source": [
    "# 6. Build Deep Learning Model\n",
    "from tensorflow.keras.models import Sequential\n",
    "from tensorflow.keras.layers import Conv2D, MaxPooling2D, Dense, Flatten, Dropout\n"
   ]
  },
  {
   "cell_type": "code",
   "execution_count": null,
   "metadata": {},
   "outputs": [],
   "source": [
    "model = Sequential()\n",
    "model.add(Conv2D(16, (3, 3), 1, activation='relu', input_shape=(256, 256, 3)))\n",
    "model.add(MaxPooling2D())\n",
    "model.add(Conv2D(32, (3, 3), 1, activation='relu'))\n",
    "model.add(MaxPooling2D())\n",
    "model.add(Conv2D(16, (3, 3), 1, activation='relu'))\n",
    "model.add(MaxPooling2D())\n",
    "model.add(Flatten())\n",
    "model.add(Dense(256, activation='relu'))\n",
    "model.add(Dense(3, activation='softmax'))  # 4 output classes\n",
    "model.compile('adam', loss=tf.keras.losses.SparseCategoricalCrossentropy(), metrics=['accuracy'])\n",
    "model.summary()"
   ]
  },
  {
   "cell_type": "code",
   "execution_count": null,
   "metadata": {},
   "outputs": [],
   "source": [
    "# 7. Train\n",
    "logdir = 'logs'\n",
    "tensorboard_callback = tf.keras.callbacks.TensorBoard(log_dir=logdir)\n",
    "hist = model.fit(train, epochs=30, validation_data=val, callbacks=[tensorboard_callback])\n"
   ]
  },
  {
   "cell_type": "code",
   "execution_count": null,
   "metadata": {},
   "outputs": [],
   "source": [
    "# 8. Plot Performance\n",
    "fig = plt.figure()\n",
    "plt.plot(hist.history['loss'], color='teal', label='loss')\n",
    "plt.plot(hist.history['val_loss'], color='orange', label='val_loss')\n",
    "fig.suptitle('Loss', fontsize=20)\n",
    "plt.legend(loc=\"upper left\")\n",
    "plt.show()\n",
    "\n",
    "fig = plt.figure()\n",
    "plt.plot(hist.history['accuracy'], color='teal', label='accuracy')\n",
    "plt.plot(hist.history['val_accuracy'], color='orange', label='val_accuracy')\n",
    "fig.suptitle('Accuracy', fontsize=20)\n",
    "plt.legend(loc=\"upper left\")\n",
    "plt.show()"
   ]
  },
  {
   "cell_type": "code",
   "execution_count": null,
   "metadata": {},
   "outputs": [],
   "source": [
    "# 9. Evaluate\n",
    "from tensorflow.keras.metrics import Precision, Recall, BinaryAccuracy\n",
    "\n",
    "pre = Precision()\n",
    "re = Recall()\n",
    "acc = BinaryAccuracy()\n",
    "for batch in test.as_numpy_iterator():\n",
    "    X, y = batch\n",
    "    yhat = model.predict(X)\n",
    "    yhat_classes = np.argmax(yhat, axis=-1)  # Get the predicted class indices\n",
    "    \n",
    "    pre.update_state(y, yhat_classes)\n",
    "    re.update_state(y, yhat_classes)\n",
    "    acc.update_state(y, yhat_classes)\n",
    "print(pre.result(), re.result(), acc.result())\n"
   ]
  },
  {
   "cell_type": "code",
   "execution_count": null,
   "metadata": {},
   "outputs": [],
   "source": [
    "# 10. Test\n",
    "import cv2"
   ]
  },
  {
   "cell_type": "code",
   "execution_count": null,
   "metadata": {},
   "outputs": [],
   "source": [
    "\n",
    "img = cv2.imread('ISIC/Train/melanoma/ISIC_0000013.jpg')\n",
    "plt.imshow(img)\n",
    "plt.show()\n",
    "\n",
    "resize = tf.image.resize(img, (256, 256))\n",
    "plt.imshow(resize.numpy().astype(int))\n",
    "plt.show()\n",
    "\n",
    "yhat = model.predict(np.expand_dims(resize / 255, 0))\n",
    "predicted_class = np.argmax(yhat)  # Get the index of the highest probability class\n",
    "\n",
    "classes = ['basal cell carcinoma', 'melanoma', 'squamous cell carcinoma']\n",
    "print(f'score : {[predicted_class]}')\n",
    "if classes[predicted_class] in allowed_classes:\n",
    "    print(f'score : {[yhat]}')\n",
    "    print(f'Predicted class is a {classes[predicted_class]}')\n",
    "else:\n",
    "    print('Error: Image does not belong to skin cancer class.')"
   ]
  },
  {
   "cell_type": "code",
   "execution_count": null,
   "metadata": {},
   "outputs": [],
   "source": [
    "# 11. Save the Model\n",
    "from tensorflow.keras.models import load_model\n",
    "\n",
    "model.save(os.path.join('models', 'imageclassifiers.h5'))\n",
    "new_model = load_model('models/imageclassifiers.h5')\n",
    "new_model.predict(np.expand_dims(resize / 255, 0))\n"
   ]
  }
 ],
 "metadata": {
  "kernelspec": {
   "display_name": "Python 3",
   "language": "python",
   "name": "python3"
  },
  "language_info": {
   "codemirror_mode": {
    "name": "ipython",
    "version": 3
   },
   "file_extension": ".py",
   "mimetype": "text/x-python",
   "name": "python",
   "nbconvert_exporter": "python",
   "pygments_lexer": "ipython3",
   "version": "3.11.1"
  },
  "orig_nbformat": 4
 },
 "nbformat": 4,
 "nbformat_minor": 2
}
