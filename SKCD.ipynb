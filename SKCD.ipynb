{
 "cells": [
  {
   "cell_type": "code",
   "execution_count": 7,
   "metadata": {},
   "outputs": [
    {
     "name": "stdout",
     "output_type": "stream",
     "text": [
      " * Serving Flask app '__main__'\n",
      " * Debug mode: off\n"
     ]
    },
    {
     "name": "stderr",
     "output_type": "stream",
     "text": [
      "WARNING: This is a development server. Do not use it in a production deployment. Use a production WSGI server instead.\n",
      " * Running on http://127.0.0.1:5000\n",
      "Press CTRL+C to quit\n"
     ]
    }
   ],
   "source": [
    "import os\n",
    "from flask import Flask, render_template, request\n",
    "from werkzeug.utils import secure_filename\n",
    "import cv2\n",
    "import numpy as np\n",
    "from tensorflow.keras.models import load_model\n",
    "\n",
    "# Initialize Flask application\n",
    "app = Flask(__name__, static_url_path='/static')\n",
    "\n",
    "# Load the skin cancer classifier model\n",
    "model = load_model('models/imageclassifiers.h5')\n",
    "allowed_classes = ['basal cell carcinoma', 'melanoma', 'squamous cell carcinoma']\n",
    "\n",
    "# Define allowed file extensions\n",
    "ALLOWED_EXTENSIONS = {'jpg', 'jpeg', 'png'}\n",
    "\n",
    "# Configure upload folder\n",
    "UPLOAD_FOLDER = 'uploads'\n",
    "app.config['UPLOAD_FOLDER'] = UPLOAD_FOLDER\n",
    "\n",
    "\n",
    "def allowed_file(filename):\n",
    "    # Check if the file has an allowed extension\n",
    "    return '.' in filename and \\\n",
    "           filename.rsplit('.', 1)[1].lower() in ALLOWED_EXTENSIONS\n",
    "\n",
    "\n",
    "def preprocess_image(image):\n",
    "    # Preprocess the image for prediction\n",
    "    image = cv2.cvtColor(image, cv2.COLOR_BGR2RGB)\n",
    "    image = cv2.resize(image, (256, 256))  # Adjust the size according to the model requirements\n",
    "    image = image.astype('float32') / 255.0\n",
    "    return image\n",
    "\n",
    "\n",
    "def classify_image(image):\n",
    "    # Classify the image using the loaded model\n",
    "    preprocessed_image = preprocess_image(image)\n",
    "    preprocessed_image = np.expand_dims(preprocessed_image, axis=0)\n",
    "    prediction = model.predict(preprocessed_image)\n",
    "    predicted_label_index = np.argmax(prediction)\n",
    "    predicted_label = allowed_classes[predicted_label_index]\n",
    "    \n",
    "    return predicted_label if predicted_label in allowed_classes else 'Error: Image does not belong to a skin cancer class.'\n",
    "\n",
    "\n",
    "@app.route('/', methods=['GET'])\n",
    "def index():\n",
    "    # Render the index.html template\n",
    "    return render_template('index.html')\n",
    "\n",
    "\n",
    "\n",
    "@app.route('/predict', methods=['GET','POST'])\n",
    "def upload():\n",
    "    # Handle file upload from the front-end\n",
    "    if 'file' not in request.files:\n",
    "        return 'No file uploaded', 400\n",
    "\n",
    "    file = request.files['file']\n",
    "\n",
    "    if file.filename == '':\n",
    "        return 'No selected file', 400\n",
    "\n",
    "    if file and allowed_file(file.filename):\n",
    "        filename = secure_filename(file.filename)\n",
    "        filepath = os.path.join(app.config['UPLOAD_FOLDER'], filename)\n",
    "        file.save(filepath)\n",
    "\n",
    "        # Load and classify the uploaded image\n",
    "        image = cv2.imread(filepath)\n",
    "        predicted_label = classify_image(image)\n",
    "\n",
    "        # Remove the uploaded file\n",
    "        os.remove(filepath)\n",
    "\n",
    "        return f'{predicted_label}'\n",
    "\n",
    "    return 'Invalid file', 400\n",
    "\n",
    "\n",
    "if __name__ == '__main__':\n",
    "    app.run()\n",
    "\n",
    "%tb\n"
   ]
  }
 ],
 "metadata": {
  "kernelspec": {
   "display_name": "Python 3",
   "language": "python",
   "name": "python3"
  },
  "language_info": {
   "codemirror_mode": {
    "name": "ipython",
    "version": 3
   },
   "file_extension": ".py",
   "mimetype": "text/x-python",
   "name": "python",
   "nbconvert_exporter": "python",
   "pygments_lexer": "ipython3",
   "version": "3.11.1"
  },
  "orig_nbformat": 4
 },
 "nbformat": 4,
 "nbformat_minor": 2
}
